{
 "cells": [
  {
   "cell_type": "code",
   "execution_count": 8,
   "metadata": {},
   "outputs": [],
   "source": [
    "data = {\n",
    "    \"A\": (-4, -3),\n",
    "    \"B\": (6, 5),\n",
    "    \"C\": (1, -7),\n",
    "    \"D\": (-4, -6),\n",
    "    \"E\": (4, 6),\n",
    "    \"F\": (-1, 5),\n",
    "    \"G\": (-3, 0),\n",
    "    \"H\": (3, 0),\n",
    "}"
   ]
  },
  {
   "cell_type": "code",
   "execution_count": 17,
   "metadata": {},
   "outputs": [],
   "source": [
    "# write k=2 k-means clustering algorithm\n",
    "# 1. select k points as centroids = G and H\n",
    "# 2. assign each point to the closest centroid\n",
    "# 3. compute the new centroids by taking the average of all points assigned to that centroid\n",
    "# 3.5. print the new centroids and the clusters\n",
    "# 4. repeat steps 2 and 3 until the centroids don't change\n",
    "\n",
    "def distance(a, b):\n",
    "    # euclidean distance\n",
    "    return ((a[0] - b[0]) ** 2 + (a[1] - b[1]) ** 2) ** .5\n",
    "\n",
    "def average(points):\n",
    "    # average of a list of points\n",
    "    return (\n",
    "        sum([point[0] for point in points]) / len(points),\n",
    "        sum([point[1] for point in points]) / len(points),\n",
    "    )\n",
    "\n",
    "def kmeans(data, k=2):\n",
    "\n",
    "    # 1. select k points as centroids = G and H\n",
    "    centroids = {\n",
    "        \"C1\": data[\"G\"],\n",
    "        \"C2\": data[\"H\"],\n",
    "    }\n",
    "\n",
    "    # 4. repeat steps 2 and 3 until the centroids don't change\n",
    "    while True:\n",
    "\n",
    "        # 2. assign each point to the closest centroid\n",
    "        clusters = {\n",
    "            \"C1\": [],\n",
    "            \"C2\": [],\n",
    "        }\n",
    "        for point in data:\n",
    "            distances = {}\n",
    "            for centroid in centroids:\n",
    "                distances[centroid] = distance(data[point], centroids[centroid])\n",
    "                # print(f\"Distance {point} to {centroid} = {distances[centroid]}\")\n",
    "            closest_centroid = min(distances, key=distances.get)\n",
    "            clusters[closest_centroid].append(point)\n",
    "\n",
    "        # 3. compute the new centroids by taking the average of all points assigned to that centroid\n",
    "        new_centroids = {}\n",
    "        for centroid in centroids:\n",
    "            new_centroids[centroid] = average([data[point] for point in clusters[centroid]])\n",
    "\n",
    "        # 3.5. print the new centroids and the clusters\n",
    "        print(\"New centroids:\", new_centroids)\n",
    "        print(\"Clusters:\", clusters)\n",
    "\n",
    "        # 4. repeat steps 2 and 3 until the centroids don't change\n",
    "        if centroids == new_centroids:\n",
    "            break\n",
    "        centroids = new_centroids\n",
    "\n",
    "    return clusters\n"
   ]
  },
  {
   "cell_type": "code",
   "execution_count": 18,
   "metadata": {},
   "outputs": [
    {
     "name": "stdout",
     "output_type": "stream",
     "text": [
      "New centroids: {'C1': (-3.0, -1.0), 'C2': (3.5, 1.0)}\n",
      "Clusters: {'C1': ['A', 'D', 'F', 'G'], 'C2': ['B', 'C', 'E', 'H']}\n",
      "New centroids: {'C1': (-2.5, -4.0), 'C2': (3.0, 4.0)}\n",
      "Clusters: {'C1': ['A', 'C', 'D', 'G'], 'C2': ['B', 'E', 'F', 'H']}\n",
      "New centroids: {'C1': (-2.5, -4.0), 'C2': (3.0, 4.0)}\n",
      "Clusters: {'C1': ['A', 'C', 'D', 'G'], 'C2': ['B', 'E', 'F', 'H']}\n"
     ]
    },
    {
     "data": {
      "text/plain": [
       "{'C1': ['A', 'C', 'D', 'G'], 'C2': ['B', 'E', 'F', 'H']}"
      ]
     },
     "execution_count": 18,
     "metadata": {},
     "output_type": "execute_result"
    }
   ],
   "source": [
    "kmeans(data)"
   ]
  },
  {
   "cell_type": "code",
   "execution_count": 13,
   "metadata": {},
   "outputs": [
    {
     "name": "stdout",
     "output_type": "stream",
     "text": [
      "-55.740000000000016\n"
     ]
    }
   ],
   "source": [
    "import numpy as np\n",
    "\n",
    "d1 = (130, 84)\n",
    "d2 = (-0.81, 0.59)\n",
    "\n",
    "print(np.dot(d1, d2))"
   ]
  },
  {
   "cell_type": "code",
   "execution_count": 16,
   "metadata": {},
   "outputs": [
    {
     "name": "stdout",
     "output_type": "stream",
     "text": [
      "-32.8866\n"
     ]
    }
   ],
   "source": [
    "print( -55.74 * 0.59)\n"
   ]
  },
  {
   "cell_type": "code",
   "execution_count": null,
   "metadata": {},
   "outputs": [],
   "source": []
  }
 ],
 "metadata": {
  "kernelspec": {
   "display_name": "Python 3",
   "language": "python",
   "name": "python3"
  },
  "language_info": {
   "codemirror_mode": {
    "name": "ipython",
    "version": 3
   },
   "file_extension": ".py",
   "mimetype": "text/x-python",
   "name": "python",
   "nbconvert_exporter": "python",
   "pygments_lexer": "ipython3",
   "version": "3.11.3"
  },
  "orig_nbformat": 4
 },
 "nbformat": 4,
 "nbformat_minor": 2
}
