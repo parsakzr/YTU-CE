{
 "cells": [
  {
   "cell_type": "code",
   "execution_count": 94,
   "metadata": {},
   "outputs": [],
   "source": [
    "import random\n",
    "from matplotlib import pyplot as plt\n"
   ]
  },
  {
   "cell_type": "code",
   "execution_count": 95,
   "metadata": {},
   "outputs": [
    {
     "data": {
      "text/plain": [
       "['A very, very, very slow-moving, aimless movie about a distressed, drifting young man.  \\t0',\n",
       " 'Not sure who was more lost - the flat characters or the audience, nearly half of whom walked out.  \\t0',\n",
       " 'Attempting artiness with black & white and clever camera angles, the movie disappointed - became even more ridiculous - as the acting was poor and the plot and lines almost non-existent.  \\t0',\n",
       " 'Very little music or anything to speak of.  \\t0',\n",
       " 'The best scene in the movie was when Gerardo is trying to find a song that keeps running through his head.  \\t1']"
      ]
     },
     "execution_count": 95,
     "metadata": {},
     "output_type": "execute_result"
    }
   ],
   "source": [
    "# open the file datasetv2.txt and read each line\n",
    "# with open('datasetv2.txt') as f:\n",
    "with open('data/sls/imdb_labelled.txt') as f:\n",
    "    lines = f.read().splitlines()\n",
    "\n",
    "lines[:5]"
   ]
  },
  {
   "cell_type": "code",
   "execution_count": 96,
   "metadata": {},
   "outputs": [
    {
     "data": {
      "text/plain": [
       "[{'text': 'a very very very slowmoving aimless movie about a distressed drifting young man  ',\n",
       "  'label': 0},\n",
       " {'text': 'not sure who was more lost  the flat characters or the audience nearly half of whom walked out  ',\n",
       "  'label': 0},\n",
       " {'text': 'attempting artiness with black & white and clever camera angles the movie disappointed  became even more ridiculous  as the acting was poor and the plot and lines almost nonexistent  ',\n",
       "  'label': 0},\n",
       " {'text': 'very little music or anything to speak of  ', 'label': 0},\n",
       " {'text': 'the best scene in the movie was when gerardo is trying to find a song that keeps running through his head  ',\n",
       "  'label': 1}]"
      ]
     },
     "execution_count": 96,
     "metadata": {},
     "output_type": "execute_result"
    }
   ],
   "source": [
    "# remove comma, period, question mark and exclamation mark, and convert each line to lowercase\n",
    "\n",
    "lines = [line.lower()\n",
    "         .replace(',', '')\n",
    "         .replace('.', '')\n",
    "         .replace('?', '')\n",
    "         .replace('!', '') \n",
    "         .replace('-', '')\n",
    "         .replace('/', ' ')\n",
    "         for line in lines]\n",
    "\n",
    "# a list of dictionaries, where each dictionary contains the text and label of a line\n",
    "train_set = []\n",
    "for line in lines:\n",
    "    text, label = line.split('\\t')\n",
    "    train_set.append({'text': text, 'label': int(label)})\n",
    "\n",
    "\n",
    "train_set[:5]"
   ]
  },
  {
   "cell_type": "code",
   "execution_count": 97,
   "metadata": {},
   "outputs": [
    {
     "name": "stdout",
     "output_type": "stream",
     "text": [
      "Number of words = 3308\n"
     ]
    }
   ],
   "source": [
    "dict_word_freq = {}\n",
    "\n",
    "\n",
    "for line in lines:\n",
    "    # add each word as the key and its frequency as the value\n",
    "    for word in line.split():\n",
    "        # if the word is not in the dictionary, add it\n",
    "        if word not in dict_word_freq:\n",
    "            dict_word_freq[word] = 1\n",
    "        # if the word is in the dict_word_freq, increment its value by 1\n",
    "        else:\n",
    "            dict_word_freq[word] += 1\n",
    "\n",
    "print(f\"Number of words = {len(dict_word_freq.items())}\")"
   ]
  },
  {
   "cell_type": "code",
   "execution_count": 98,
   "metadata": {},
   "outputs": [
    {
     "name": "stdout",
     "output_type": "stream",
     "text": [
      "Number of words after cleanup = 596\n"
     ]
    }
   ],
   "source": [
    "# Preprocessing and cleaning the data\n",
    "# remove frequent words and rare words, and remove words with length less than 3\n",
    "\n",
    "# remove frequent words that appear more than 80% of the time\n",
    "dict_word_freq = {k: v for k, v in dict_word_freq.items() if v < 0.8 * len(lines)}\n",
    "\n",
    "# remove rare words that appear less than 5 times\n",
    "dict_word_freq = {k: v for k, v in dict_word_freq.items() if v > 2}\n",
    "\n",
    "# remove words with length less than 3\n",
    "dict_word_freq = {k: v for k, v in dict_word_freq.items() if len(k) > 3}\n",
    "\n",
    "print(f\"Number of words after cleanup = {len(dict_word_freq.items())}\")"
   ]
  },
  {
   "cell_type": "code",
   "execution_count": 99,
   "metadata": {},
   "outputs": [
    {
     "data": {
      "text/plain": [
       "['that',\n",
       " \"it's\",\n",
       " 'found',\n",
       " 'which',\n",
       " 'wrong',\n",
       " 'drago',\n",
       " 'wish',\n",
       " 'brilliance',\n",
       " 'here',\n",
       " 'main']"
      ]
     },
     "execution_count": 99,
     "metadata": {},
     "output_type": "execute_result"
    }
   ],
   "source": [
    "words = [*dict_word_freq.keys()]\n",
    "random.choices(words, k=10)"
   ]
  },
  {
   "cell_type": "code",
   "execution_count": 105,
   "metadata": {},
   "outputs": [],
   "source": [
    "def newIndividual(words, size):\n",
    "    # create an individual by randomly choosing words from the list of words\n",
    "    return random.choices(words, k=size)\n",
    "\n",
    "def mutate(individual, words, mutation_rate):\n",
    "    # mutate the individual by randomly changing some of its words\n",
    "    for i in range(len(individual)):\n",
    "        if random.random() < mutation_rate: # random.random() returns a random float between 0 and 1 === probability\n",
    "            individual[i] = random.choice(words)\n",
    "    return individual\n",
    "\n",
    "def fitness(individual, train_set):\n",
    "    # the individual is a list of words like ['C1-1', 'C1-2', ..., 'C0-N/2', 'C0-1', 'C0-2', ..., 'C0-N/2']\n",
    "    # fitness funtion is calculated by counting the number of times the individual appears in the lines\n",
    "    count_c1, count_c0 = 0, 0\n",
    "    count_correct_prediction = 0\n",
    "    for line in train_set:\n",
    "        line, label = line[\"text\"], line[\"label\"]\n",
    "        for word in line.split():\n",
    "            if word in individual[:len(individual)//2]: # if it is in the first half of the individual\n",
    "                count_c1 += 1\n",
    "            elif word in individual[len(individual)//2:]: # if it is in the second half of the individual\n",
    "                count_c0 += 1\n",
    "    \n",
    "        prediction = 1 if count_c1 >= count_c0 else 0\n",
    "        if prediction == label: # if the prediction is correct\n",
    "            count_correct_prediction += 1\n",
    "    return count_correct_prediction / len(train_set)\n",
    "        \n",
    "\n",
    "def crossover(parent1, parent2):\n",
    "    # create a child by randomly choosing genes from the parents\n",
    "    child_genes = []\n",
    "    for i in range(len(parent1)):\n",
    "        if random.random() < 0.5:\n",
    "            child_genes.append(parent1[i])\n",
    "        else:\n",
    "            child_genes.append(parent2[i])\n",
    "    return child_genes\n",
    "\n",
    "def geneticAlgorithm(train_set, population_size, individual_size, mutation_rate, elitism_rate= 0.2, max_generations=1000, verbose=True):\n",
    "    # Genetic Algorithm\n",
    "\n",
    "    # create the initial population\n",
    "    population = [newIndividual(words, size=individual_size) for _ in range(population_size)]\n",
    "    # sort the population by fitness\n",
    "    population = sorted(population, key=lambda individual: fitness(individual, train_set), reverse=True)\n",
    "    # keep track of the best individual\n",
    "    best_individual = population[0]\n",
    "    # keep track of the fitness of the best individual in each generation\n",
    "    best_fitness = [fitness(best_individual, train_set)]\n",
    "    # keep track of the average fitness of the population in each generation\n",
    "    avg_fitness = [sum([fitness(individual, train_set) for individual in population]) / population_size]\n",
    "    # keep track of the number of generations\n",
    "    num_generation = 0\n",
    "    while num_generation < max_generations:\n",
    "        # create the next generation\n",
    "        next_generation = []\n",
    "        # keep the best individuals in the population\n",
    "        next_generation.extend(population[:int(elitism_rate * population_size)])\n",
    "        # create the rest of the population\n",
    "        while len(next_generation) < population_size:\n",
    "            # randomly choose two parents from the current population\n",
    "            parent1, parent2 = random.choices(population, k=2)\n",
    "            # create a child by crossover\n",
    "            child = crossover(parent1, parent2)\n",
    "            # mutate the child\n",
    "            child = mutate(child, words, mutation_rate)\n",
    "            # add the child to the next generation\n",
    "            next_generation.append(child)\n",
    "        # sort the next generation by fitness\n",
    "        next_generation = sorted(next_generation, key=lambda individual: fitness(individual, train_set), reverse=True)\n",
    "        # update the population\n",
    "        population = next_generation\n",
    "        # update the best individual\n",
    "        if fitness(population[0], train_set) > fitness(best_individual, train_set):\n",
    "            best_individual = population[0]\n",
    "        # update the best fitness\n",
    "        best_fitness.append(fitness(best_individual, train_set))\n",
    "        # update the average fitness\n",
    "        avg_fitness.append(sum([fitness(individual, train_set) for individual in population]) / population_size)\n",
    "        # update the number of generations\n",
    "\n",
    "        if verbose==True and (num_generation % ( max_generations // 10) == 0) :\n",
    "            print(f\"Gen {num_generation+1}: Best fitness = {best_fitness[-1]}, Avg fitness = {avg_fitness[-1]}\")\n",
    "            print(f\"Best individual = {best_individual}\")\n",
    "\n",
    "        num_generation += 1\n",
    "    print(f\"==== summary ====\")\n",
    "    print(f\"Hyperparameters:\")\n",
    "    print(f\"\\tPopulation size = {population_size}\")\n",
    "    print(f\"\\tIndividual size = {individual_size}\")\n",
    "    print(f\"\\tMutation rate = {mutation_rate}\")\n",
    "    print(f\"\\tElitism rate = {elitism_rate}\")\n",
    "    print(f\"Algorithm finished after {max_generations} generations\")\n",
    "    print(f\"Best individual = {best_individual}\")\n",
    "    return best_individual, best_fitness, avg_fitness"
   ]
  },
  {
   "cell_type": "code",
   "execution_count": 106,
   "metadata": {},
   "outputs": [
    {
     "name": "stdout",
     "output_type": "stream",
     "text": [
      "Gen 1: Best fitness = 0.588, Avg fitness = 0.5011599999999999\n",
      "Best individual = ['photography', 'insult', 'story', 'seeing', 'journey', 'sense', 'actors', 'example', 'episode', 'negative']\n",
      "Gen 6: Best fitness = 0.597, Avg fitness = 0.51609\n",
      "Best individual = ['done', 'their', 'them', 'kids', 'short', 'girl', 'little', 'screen', 'found', 'negative']\n",
      "Gen 11: Best fitness = 0.606, Avg fitness = 0.5227400000000001\n",
      "Best individual = ['enough', 'music', 'song', 'memories', 'documentary', 'same', 'whatever', 'average', 'found', 'memories']\n",
      "Gen 16: Best fitness = 0.625, Avg fitness = 0.5231699999999999\n",
      "Best individual = ['favourite', 'subtle', 'piece', 'actresses', 'completely', 'same', 'screenwriter', 'especially', 'already', 'negative']\n",
      "Gen 21: Best fitness = 0.629, Avg fitness = 0.5366400000000001\n",
      "Best individual = ['camera', 'grace', 'song', 'clever', 'guess', 'easily', 'money', 'making', 'found', 'effective']\n",
      "Gen 26: Best fitness = 0.629, Avg fitness = 0.5305600000000001\n",
      "Best individual = ['camera', 'grace', 'song', 'clever', 'guess', 'easily', 'money', 'making', 'found', 'effective']\n",
      "Gen 31: Best fitness = 0.629, Avg fitness = 0.5311400000000002\n",
      "Best individual = ['camera', 'grace', 'song', 'clever', 'guess', 'easily', 'money', 'making', 'found', 'effective']\n",
      "Gen 36: Best fitness = 0.63, Avg fitness = 0.53502\n",
      "Best individual = ['done', 'want', 'people', 'songs', 'guess', 'coming', 'predictable', 'worth', 'happen', 'embarrassing']\n",
      "Gen 41: Best fitness = 0.645, Avg fitness = 0.5372000000000001\n",
      "Best individual = ['done', 'grace', 'people', 'memories', 'guess', 'coming', 'indeed', 'worth', 'found', 'wish']\n",
      "Gen 46: Best fitness = 0.645, Avg fitness = 0.5391999999999999\n",
      "Best individual = ['done', 'grace', 'people', 'memories', 'guess', 'coming', 'indeed', 'worth', 'found', 'wish']\n",
      "==== summary ====\n",
      "Hyperparameters:\n",
      "\tPopulation size = 100\n",
      "\tIndividual size = 10\n",
      "\tMutation rate = 0.05\n",
      "Algorithm finished after 50 generations\n",
      "Best individual = ['done', 'grace', 'people', 'memories', 'guess', 'coming', 'indeed', 'worth', 'found', 'wish']\n"
     ]
    }
   ],
   "source": [
    "population_size = 100\n",
    "individual_size = 10\n",
    "mutation_rate = 0.05\n",
    "\n",
    "best_individual, best_fitness, avg_fitness = geneticAlgorithm(train_set, \n",
    "                                                              population_size, \n",
    "                                                              individual_size, \n",
    "                                                              mutation_rate, \n",
    "                                                              elitism_rate=0.1, \n",
    "                                                              max_generations=50)"
   ]
  },
  {
   "cell_type": "code",
   "execution_count": 104,
   "metadata": {},
   "outputs": [
    {
     "data": {
      "image/png": "[encoded data removed]",
      "text/plain": [
       "<Figure size 640x480 with 1 Axes>"
      ]
     },
     "metadata": {},
     "output_type": "display_data"
    }
   ],
   "source": [
    "# plot the fitness\n",
    "plt.plot(best_fitness, label=\"Best fitness\")\n",
    "plt.plot(avg_fitness, label=\"Average fitness\")\n",
    "plt.xlabel(\"Generation\")\n",
    "plt.ylabel(\"Fitness\")\n",
    "\n",
    "# name of the plot containing the parameters\n",
    "plt.title(f\"Population size = {population_size}, Individual size = {individual_size}, Mutation rate = {mutation_rate}\")\n",
    "plt.legend()\n",
    "plt.show()"
   ]
  }
 ],
 "metadata": {
  "kernelspec": {
   "display_name": "mlp",
   "language": "python",
   "name": "python3"
  },
  "language_info": {
   "codemirror_mode": {
    "name": "ipython",
    "version": 3
   },
   "file_extension": ".py",
   "mimetype": "text/x-python",
   "name": "python",
   "nbconvert_exporter": "python",
   "pygments_lexer": "ipython3",
   "version": "3.10.9"
  },
  "orig_nbformat": 4
 },
 "nbformat": 4,
 "nbformat_minor": 2
}
